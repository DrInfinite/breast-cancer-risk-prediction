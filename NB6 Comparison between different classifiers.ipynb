{
 "cells": [
  {
   "cell_type": "markdown",
   "metadata": {
    "nbpresent": {
     "id": "b1daa992-4a28-496f-b325-6e8be1a7844c"
    },
    "slideshow": {
     "slide_type": "slide"
    }
   },
   "source": [
    "## Automate the ML process using pipelines \n",
    "\n",
    "There are standard workflows in a machine learning project that can be automated. In Python scikit-learn, Pipelines help to clearly define and automate these workflows.\n",
    "* Pipelines help overcome common problems like data leakage in your test harness. \n",
    "* Python scikit-learn provides a Pipeline utility to help automate machine learning workflows.\n",
    "* Pipelines work by allowing for a linear sequence of data transforms to be chained together culminating in a modeling process that can be evaluated.\n",
    "\n",
    "### Data Preparation and Modeling Pipeline"
   ]
  },
  {
   "cell_type": "code",
   "execution_count": null,
   "metadata": {},
   "outputs": [],
   "source": [
    "%matplotlib inline\n",
    "import matplotlib.pyplot as plt\n",
    "\n",
    "# Create a pipeline that standardizes the data then creates a model\n",
    "#Load libraries for data processing\n",
    "import pandas as pd #data processing, CSV file I/O (e.g. pd.read_csv)\n",
    "import numpy as np\n",
    "from scipy.stats import norm\n",
    "\n",
    "from sklearn.model_selection import train_test_split\n",
    "from sklearn.cross_validation import cross_val_score, KFold\n",
    "from sklearn.preprocessing import LabelEncoder\n",
    "from sklearn.preprocessing import StandardScaler\n",
    "from sklearn.decomposition import PCA\n",
    "\n",
    "from sklearn.pipeline import Pipeline\n",
    "from sklearn.model_selection import GridSearchCV\n",
    "\n",
    "from sklearn.linear_model import LogisticRegression\n",
    "from sklearn.tree import DecisionTreeClassifier\n",
    "from sklearn.neighbors import KNeighborsClassifier\n",
    "from sklearn.discriminant_analysis import LinearDiscriminantAnalysis\n",
    "from sklearn.naive_bayes import GaussianNB\n",
    "from sklearn.svm import SVC\n",
    "from sklearn.metrics import confusion_matrix\n",
    "from sklearn.metrics import accuracy_score\n",
    "from sklearn.metrics import classification_report\n",
    "# visualization\n",
    "import seaborn as sns \n",
    "plt.style.use('fivethirtyeight')\n",
    "sns.set_style(\"white\")\n",
    "\n",
    "plt.rcParams['figure.figsize'] = (8,4) \n",
    "#plt.rcParams['axes.titlesize'] = 'large'\n"
   ]
  },
  {
   "cell_type": "markdown",
   "metadata": {},
   "source": [
    "### Evaluate Some Algorithms\n",
    "Now it is time to create some models of the data and estimate their accuracy on unseen data. Here is what we are going to cover in this step:\n",
    "1. Separate out a validation dataset.\n",
    "2. Setup the test harness to use 10-fold cross validation.\n",
    "3. Build 5 different models  \n",
    "4. Select the best model\n",
    "\n",
    "## 1.0 Validation Dataset"
   ]
  },
  {
   "cell_type": "code",
   "execution_count": 3,
   "metadata": {
    "collapsed": true
   },
   "outputs": [],
   "source": [
    "#load data\n",
    "data = pd.read_csv('data/clean-data.csv', index_col=False)\n",
    "data.drop('Unnamed: 0',axis=1, inplace=True)\n",
    "\n",
    "# Split-out validation dataset\n",
    "array = data.values\n",
    "X = array[:,1:31]\n",
    "y = array[:,0]\n",
    "\n",
    "# Divide records in training and testing sets.\n",
    "X_train, X_test, y_train, y_test = train_test_split(X, y, test_size=0.3, random_state=7)\n",
    "\n",
    "#transform the class labels from their original string representation (M and B) into integers\n",
    "le = LabelEncoder()\n",
    "y = le.fit_transform(y)"
   ]
  },
  {
   "cell_type": "markdown",
   "metadata": {},
   "source": [
    "## 2.0 Evaluate Algorithms: Baseline"
   ]
  },
  {
   "cell_type": "code",
   "execution_count": 4,
   "metadata": {},
   "outputs": [
    {
     "name": "stdout",
     "output_type": "stream",
     "text": [
      "LR: 0.944808 (0.029070)\n",
      "LDA: 0.957372 (0.029611)\n",
      "KNN: 0.929872 (0.036675)\n",
      "CART: 0.922051 (0.045614)\n",
      "NB: 0.934679 (0.044038)\n",
      "SVM: 0.605769 (0.073092)\n",
      "-> 10-Fold cross-validation accurcay score for the training data for six classifiers\n"
     ]
    }
   ],
   "source": [
    "# Spot-Check Algorithms\n",
    "models = []\n",
    "models.append(( 'LR' , LogisticRegression()))\n",
    "models.append(( 'LDA' , LinearDiscriminantAnalysis()))\n",
    "models.append(( 'KNN' , KNeighborsClassifier()))\n",
    "models.append(( 'CART' , DecisionTreeClassifier()))\n",
    "models.append(( 'NB' , GaussianNB()))\n",
    "models.append(( 'SVM' , SVC()))\n",
    "\n",
    "# Test options and evaluation metric\n",
    "num_folds = 10\n",
    "num_instances = len(X_train)\n",
    "seed = 7 \n",
    "scoring =  'accuracy'\n",
    "\n",
    "# Test options and evaluation metric\n",
    "num_folds = 10\n",
    "num_instances = len(X_train)\n",
    "seed = 7 \n",
    "scoring =  'accuracy'\n",
    "results = []\n",
    "names = []\n",
    "for name, model in models:\n",
    " kfold = KFold(n=num_instances, n_folds=num_folds, random_state=seed)\n",
    " cv_results = cross_val_score(model, X_train, y_train, cv=kfold, scoring=scoring)\n",
    " results.append(cv_results)\n",
    " names.append(name)\n",
    " msg = \"%s: %f (%f)\" % (name, cv_results.mean(), cv_results.std())\n",
    " print(msg)\n",
    "print('-> 10-Fold cross-validation accurcay score for the training data for six classifiers') "
   ]
  },
  {
   "cell_type": "code",
   "execution_count": 5,
   "metadata": {},
   "outputs": [
    {
     "data": {
      "text/plain": [
       "398"
      ]
     },
     "execution_count": 5,
     "metadata": {},
     "output_type": "execute_result"
    }
   ],
   "source": [
    "len(X_train)"
   ]
  },
  {
   "cell_type": "markdown",
   "metadata": {
    "collapsed": true
   },
   "source": [
    "#### Observation\n",
    "> The results suggest That both Logistic Regression and LDA may be worth further study. These are just mean accuracy values. It is always wise to look at the distribution of accuracy values calculated across cross validation folds. We can do that graphically using box and whisker plots.\n"
   ]
  },
  {
   "cell_type": "code",
   "execution_count": 19,
   "metadata": {},
   "outputs": [
    {
     "data": {
      "image/png": "[encoded data removed]",
      "text/plain": [
       "<matplotlib.figure.Figure at 0x116954110>"
      ]
     },
     "metadata": {},
     "output_type": "display_data"
    }
   ],
   "source": [
    "# Compare Algorithms\n",
    "fig = plt.figure()\n",
    "fig.suptitle( 'Algorithm Comparison' )\n",
    "ax = fig.add_subplot(111)\n",
    "plt.boxplot(results)\n",
    "ax.set_xticklabels(names)\n",
    "plt.show()"
   ]
  },
  {
   "cell_type": "markdown",
   "metadata": {},
   "source": [
    "#### Observation\n",
    "> The results show a similar tight distribution for all classifiers except SVM which is encouraging, suggesting low variance. The poor results for SVM are surprising.\n",
    "\n",
    "> It is possible the varied distribution of the attributes may have an effect on the accuracy of algorithms such as SVM. In the next section we will repeat this spot-check with a standardized copy of the training dataset.\n",
    "\n",
    "\n",
    "### 2.1 Evaluate Algorithms: Standardize Data"
   ]
  },
  {
   "cell_type": "code",
   "execution_count": null,
   "metadata": {},
   "outputs": [],
   "source": [
    "# Standardize the dataset\n",
    "pipelines = []\n",
    "pipelines.append(( 'ScaledLR' , Pipeline([( 'Scaler' , StandardScaler()),( 'LR' ,\n",
    "    LogisticRegression())])))\n",
    "pipelines.append(( 'ScaledLDA' , Pipeline([( 'Scaler' , StandardScaler()),( 'LDA' ,\n",
    "    LinearDiscriminantAnalysis())])))\n",
    "pipelines.append(( 'ScaledKNN' , Pipeline([( 'Scaler' , StandardScaler()),( 'KNN' ,\n",
    "    KNeighborsClassifier())])))\n",
    "pipelines.append(( 'ScaledCART' , Pipeline([( 'Scaler' , StandardScaler()),( 'CART' ,\n",
    "    DecisionTreeClassifier())])))\n",
    "pipelines.append(( 'ScaledNB' , Pipeline([( 'Scaler' , StandardScaler()),( 'NB' ,\n",
    "    GaussianNB())])))\n",
    "pipelines.append(( 'ScaledSVM' , Pipeline([( 'Scaler' , StandardScaler()),( 'SVM' , SVC())])))\n",
    "\n",
    "results = []\n",
    "names = []\n",
    "for name, model in pipelines:\n",
    "  kfold = KFold(n=num_instances, n_folds=num_folds, random_state=seed)\n",
    "  cv_results = cross_val_score(model, X_train, y_train, cv=kfold,\n",
    "      scoring=scoring)\n",
    "  results.append(cv_results)\n",
    "  names.append(name)\n",
    "  msg = \"%s: %f (%f)\" % (name, cv_results.mean(), cv_results.std())\n",
    "  print(msg)"
   ]
  },
  {
   "cell_type": "code",
   "execution_count": 6,
   "metadata": {},
   "outputs": [
    {
     "data": {
      "image/png": "[encoded data removed]",
      "text/plain": [
       "<matplotlib.figure.Figure at 0x11274ca90>"
      ]
     },
     "metadata": {},
     "output_type": "display_data"
    }
   ],
   "source": [
    "# Compare Algorithms\n",
    "fig = plt.figure()\n",
    "fig.suptitle( 'Scaled Algorithm Comparison' )\n",
    "ax = fig.add_subplot(111)\n",
    "plt.boxplot(results)\n",
    "ax.set_xticklabels(names)\n",
    "plt.show()"
   ]
  },
  {
   "cell_type": "markdown",
   "metadata": {},
   "source": [
    "#### Observations\n",
    "> The results show that standardization of the data has lifted the skill of SVM to be the most accurate algorithm tested so far.\n",
    "\n",
    "The results suggest digging deeper into the SVM and LDA and LR algorithms. It is very likely that configuration beyond the default may yield even more accurate models."
   ]
  },
  {
   "cell_type": "markdown",
   "metadata": {},
   "source": [
    "## 3.0 Algorithm Tuning\n",
    "In this section we investigate tuning the parameters for three algorithms that show promise from the spot-checking in the previous section: LR, LDA and SVM.\n",
    "\n",
    "### Tuning hyper-parameters - SVC estimator"
   ]
  },
  {
   "cell_type": "code",
   "execution_count": null,
   "metadata": {},
   "outputs": [],
   "source": [
    "#Make Support Vector Classifier Pipeline\n",
    "pipe_svc = Pipeline([('scl', StandardScaler()),\n",
    "                     ('pca', PCA(n_components=2)),\n",
    "                     ('clf', SVC(probability=True, verbose=False))])\n",
    "\n",
    "#Fit Pipeline to training Data\n",
    "pipe_svc.fit(X_train, y_train)\n",
    "\n",
    "#print('--> Fitted Pipeline to training Data')\n",
    "\n",
    "scores = cross_val_score(estimator=pipe_svc, X=X_train, y=y_train, cv=10, n_jobs=1, verbose=0)\n",
    "print('--> Model Training Accuracy: %.3f +/- %.3f' %(np.mean(scores), np.std(scores)))\n",
    "\n",
    "#Tune Hyperparameters\n",
    "param_range = [0.0001, 0.001, 0.01, 0.1, 1.0, 10.0, 100.0, 1000.0]\n",
    "param_grid = [{'clf__C': param_range,'clf__kernel': ['linear']},\n",
    "              {'clf__C': param_range,'clf__gamma': param_range,\n",
    "               'clf__kernel': ['rbf']}]\n",
    "gs_svc = GridSearchCV(estimator=pipe_svc,\n",
    "                  param_grid=param_grid,\n",
    "                  scoring='accuracy',\n",
    "                  cv=10,\n",
    "                  n_jobs=1)\n",
    "gs_svc = gs_svc.fit(X_train, y_train)\n",
    "print('--> Tuned Parameters Best Score: ',gs.best_score_)\n",
    "print('--> Best Parameters: \\n',gs.best_params_)\n"
   ]
  },
  {
   "cell_type": "markdown",
   "metadata": {},
   "source": [
    "### Tuning the hyper-parameters - k-NN hyperparameters\n",
    " For your standard k-NN implementation, there are two primary hyperparameters that you’ll want to tune:\n",
    "\n",
    "* The number of neighbors k.\n",
    "* The distance metric/similarity function.\n",
    "\n",
    "Both of these values can dramatically affect the accuracy of your k-NN classifier. Grid object is ready to do 10-fold cross validation on a KNN model using classification accuracy as the evaluation metric\n",
    "In addition, there is a parameter grid to repeat the 10-fold cross validation process 30 times\n",
    "Each time, the n_neighbors parameter should be given a different value from the list\n",
    "We can't give GridSearchCV just a list\n",
    "We've to specify n_neighbors should take on 1 through 30\n",
    "You can set n_jobs = -1 to run computations in parallel (if supported by your computer and OS) "
   ]
  },
  {
   "cell_type": "code",
   "execution_count": null,
   "metadata": {},
   "outputs": [],
   "source": [
    "from sklearn.neighbors import KNeighborsClassifier as KNN\n",
    "\n",
    "pipe_knn = Pipeline([('scl', StandardScaler()),\n",
    "                     ('pca', PCA(n_components=2)),\n",
    "                     ('clf', KNeighborsClassifier())])\n",
    "            \n",
    "#Fit Pipeline to training Data\n",
    "pipe_knn.fit(X_train, y_train) \n",
    "\n",
    "scores = cross_val_score(estimator=pipe_knn, \n",
    "                        X=X_train, \n",
    "                        y=y_train, \n",
    "                        cv=10,\n",
    "                        n_jobs=1)\n",
    "print('--> Model Training Accuracy: %.3f +/- %.3f' %(np.mean(scores), np.std(scores)))\n",
    "\n",
    "#Tune Hyperparameters\n",
    "param_range = range(1, 31)\n",
    "param_grid = [{'clf__n_neighbors': param_range}]\n",
    "# instantiate the grid\n",
    "grid = GridSearchCV(estimator=pipe_knn, \n",
    "                  param_grid=param_grid, \n",
    "                  cv=10, \n",
    "                  scoring='accuracy')\n",
    "gs_knn = grid.fit(X_train, y_train)\n",
    "print('--> Tuned Parameters Best Score: ',gs.best_score_)\n",
    "print('--> Best Parameters: \\n',gs.best_params_)"
   ]
  },
  {
   "cell_type": "markdown",
   "metadata": {},
   "source": [
    "### Finalize Model"
   ]
  },
  {
   "cell_type": "code",
   "execution_count": 12,
   "metadata": {},
   "outputs": [
    {
     "name": "stdout",
     "output_type": "stream",
     "text": [
      "--> Final Model Training Accuracy: 0.944 +/- 0.032\n",
      "--> Final Accuracy on Test set: 0.94737\n"
     ]
    }
   ],
   "source": [
    "#Use best parameters\n",
    "clf_svc = gs.best_estimator_\n",
    "\n",
    "#Get Final Scores\n",
    "clf_svc.fit(X_train, y_train)\n",
    "scores = cross_val_score(estimator=clf_svc,\n",
    "                         X=X_train,\n",
    "                         y=y_train,\n",
    "                         cv=10,\n",
    "                         n_jobs=1)\n",
    "print('--> Final Model Training Accuracy: %.3f +/- %.3f' %(np.mean(scores), np.std(scores)))\n",
    "\n",
    "print('--> Final Accuracy on Test set: %.5f' % clf_svc.score(X_test,y_test))\n"
   ]
  },
  {
   "cell_type": "code",
   "execution_count": 20,
   "metadata": {},
   "outputs": [
    {
     "name": "stdout",
     "output_type": "stream",
     "text": [
      "0.947368421053\n",
      "[[113   3]\n",
      " [  6  49]]\n",
      "             precision    recall  f1-score   support\n",
      "\n",
      "          B       0.95      0.97      0.96       116\n",
      "          M       0.94      0.89      0.92        55\n",
      "\n",
      "avg / total       0.95      0.95      0.95       171\n",
      "\n"
     ]
    }
   ],
   "source": [
    "clf_svc.fit(X_train, y_train)\n",
    "y_pred = clf_svc.predict(X_test)\n",
    "\n",
    "print(accuracy_score(y_test, y_pred))\n",
    "print(confusion_matrix(y_test, y_pred))\n",
    "print(classification_report(y_test, y_pred))"
   ]
  },
  {
   "cell_type": "markdown",
   "metadata": {},
   "source": [
    "## Summary\n",
    "\n",
    "Worked through a classification predictive modeling machine learning problem from end-to-end using Python. Specifically, the steps covered were:\n",
    "1. Problem Definition (Breast Cancer data).\n",
    "2. Loading the Dataset.\n",
    "3. Analyze Data (same scale but di↵erent distributions of data).\n",
    "    * Evaluate Algorithms (KNN looked good).\n",
    "    * Evaluate Algorithms with Standardization (KNN and SVM looked good).\n",
    "4. Algorithm Tuning (K=19 for KNN was good, SVM with an RBF kernel and C=100 was best).. \n",
    "5. Finalize Model (use all training data and confirm using validation dataset)"
   ]
  }
 ],
 "metadata": {
  "anaconda-cloud": {},
  "kernelspec": {
   "display_name": "Python 3",
   "language": "python",
   "name": "python3"
  },
  "language_info": {
   "codemirror_mode": {
    "name": "ipython",
    "version": 3
   },
   "file_extension": ".py",
   "mimetype": "text/x-python",
   "name": "python",
   "nbconvert_exporter": "python",
   "pygments_lexer": "ipython3",
   "version": "3.11.0"
  },
  "nbpresent": {
   "slides": {
    "24b4c65f-bb0a-40e5-82d1-e7a32fd7cb81": {
     "id": "24b4c65f-bb0a-40e5-82d1-e7a32fd7cb81",
     "prev": "c916bff9-01b0-4f88-8dfe-48366cbcebbd",
     "regions": {
      "96cec8ec-f802-4388-92b6-3575ae6d35fc": {
       "attrs": {
        "height": 0.8,
        "width": 0.8,
        "x": 0.1,
        "y": 0.1
       },
       "content": {
        "cell": "57b6e52c-2e81-423d-9902-e57a54fadab3",
        "part": "whole"
       },
       "id": "96cec8ec-f802-4388-92b6-3575ae6d35fc"
      }
     }
    },
    "3fe8f6e5-8355-49bd-8b72-54cc03842fdd": {
     "id": "3fe8f6e5-8355-49bd-8b72-54cc03842fdd",
     "prev": "24b4c65f-bb0a-40e5-82d1-e7a32fd7cb81",
     "regions": {
      "15ef1e17-3829-4deb-a95f-49af770554e4": {
       "attrs": {
        "height": 0.4,
        "width": 0.8,
        "x": 0.1,
        "y": 0.5
       },
       "content": {
        "cell": "7c2600b8-f656-4a31-8fff-826146198290",
        "part": "whole"
       },
       "id": "15ef1e17-3829-4deb-a95f-49af770554e4"
      },
      "26043033-eeee-4f5f-9f64-94e8af33b4ad": {
       "attrs": {
        "height": 0.4,
        "width": 0.8,
        "x": 0.1,
        "y": 0.5
       },
       "content": {
        "cell": "7b8e7745-abd5-4313-b1d9-a571faf34d6f",
        "part": "whole"
       },
       "id": "26043033-eeee-4f5f-9f64-94e8af33b4ad"
      },
      "32421559-c70d-4046-9ffb-e3fe7750d949": {
       "attrs": {
        "height": 0.4,
        "width": 0.8,
        "x": 0.1,
        "y": 0.5
       },
       "content": {
        "cell": "a1cd24b6-d66a-4452-a9b6-1feecc23ef3b",
        "part": "whole"
       },
       "id": "32421559-c70d-4046-9ffb-e3fe7750d949"
      },
      "6b5e1491-f4a8-4cb5-8a9a-653689ecf24f": {
       "attrs": {
        "height": 0.4,
        "width": 0.8,
        "x": 0.1,
        "y": 0.5
       },
       "content": {
        "cell": "2db6cf7b-a8d0-4f65-b9ba-f833f21849fd",
        "part": "whole"
       },
       "id": "6b5e1491-f4a8-4cb5-8a9a-653689ecf24f"
      },
      "82991730-4d08-4637-8391-26e15b890186": {
       "attrs": {
        "height": 0.8,
        "width": 0.8,
        "x": 0.1,
        "y": 0.1
       },
       "content": {
        "cell": "226eb66f-3bbc-4911-ae3e-3a7953db372a",
        "part": "whole"
       },
       "id": "82991730-4d08-4637-8391-26e15b890186"
      },
      "9c7c33ce-2582-4e10-a1b8-c334961967b6": {
       "attrs": {
        "height": 0.4,
        "width": 0.8,
        "x": 0.1,
        "y": 0.5
       },
       "content": {
        "cell": "aaff86c0-1ec6-4fda-bdc5-6f1fad2d1bed",
        "part": "whole"
       },
       "id": "9c7c33ce-2582-4e10-a1b8-c334961967b6"
      },
      "b852c892-5a54-4981-94b4-335b73256228": {
       "attrs": {
        "height": 0.4,
        "width": 0.8,
        "x": 0.1,
        "y": 0.5
       },
       "content": {
        "cell": "9e64f8b8-8d22-4b11-b893-21e18aca1896",
        "part": "whole"
       },
       "id": "b852c892-5a54-4981-94b4-335b73256228"
      },
      "bc2c634a-7f01-458a-875d-f2d9490c5d7f": {
       "attrs": {
        "height": 0.4,
        "width": 0.8,
        "x": 0.1,
        "y": 0.5
       },
       "content": {
        "cell": "d5d5f892-f456-4167-beca-f90a955c41b8",
        "part": "whole"
       },
       "id": "bc2c634a-7f01-458a-875d-f2d9490c5d7f"
      },
      "bee14e73-b23f-4351-949d-127e5e7725a1": {
       "attrs": {
        "height": 0.4,
        "width": 0.8,
        "x": 0.1,
        "y": 0.5
       },
       "content": {
        "cell": "f57a9cbe-11fb-48ec-b081-046da330c180",
        "part": "whole"
       },
       "id": "bee14e73-b23f-4351-949d-127e5e7725a1"
      },
      "c15582a0-2c07-4410-b1b3-8f6941367456": {
       "attrs": {
        "height": 0.4,
        "width": 0.8,
        "x": 0.1,
        "y": 0.5
       },
       "content": {
        "cell": "8b6fc11b-bdf0-4429-858b-594d9d08ffe8",
        "part": "whole"
       },
       "id": "c15582a0-2c07-4410-b1b3-8f6941367456"
      },
      "cbd8001c-ce07-4722-aed4-db80545c6aad": {
       "attrs": {
        "height": 0.4,
        "width": 0.8,
        "x": 0.1,
        "y": 0.5
       },
       "content": {
        "cell": "b6901fc4-1011-4b0b-a585-b408c98dccc5",
        "part": "whole"
       },
       "id": "cbd8001c-ce07-4722-aed4-db80545c6aad"
      },
      "d174d0a5-e24c-47a2-bcb3-12b795cd4d34": {
       "attrs": {
        "height": 0.4,
        "width": 0.8,
        "x": 0.1,
        "y": 0.5
       },
       "content": {
        "cell": "13a04041-12c5-40d9-aa3e-3c31b7c6700f",
        "part": "whole"
       },
       "id": "d174d0a5-e24c-47a2-bcb3-12b795cd4d34"
      },
      "f979a251-a052-4653-8dc4-76989d6d5564": {
       "attrs": {
        "height": 0.4,
        "width": 0.8,
        "x": 0.1,
        "y": 0.5
       },
       "content": {
        "cell": "4d43cfde-2f01-48e6-ae90-86aa87ed0658",
        "part": "whole"
       },
       "id": "f979a251-a052-4653-8dc4-76989d6d5564"
      },
      "fc37e2ef-dace-4e14-bd2c-d2f1720fb59b": {
       "attrs": {
        "height": 0.4,
        "width": 0.8,
        "x": 0.1,
        "y": 0.5
       },
       "content": {
        "cell": "f5fca3f9-acc2-4cba-9ceb-3eb63d0c6336",
        "part": "whole"
       },
       "id": "fc37e2ef-dace-4e14-bd2c-d2f1720fb59b"
      }
     }
    },
    "c916bff9-01b0-4f88-8dfe-48366cbcebbd": {
     "id": "c916bff9-01b0-4f88-8dfe-48366cbcebbd",
     "prev": null,
     "regions": {
      "b30819be-7928-4220-b15f-b3ca846f4850": {
       "attrs": {
        "height": 0.8,
        "width": 0.8,
        "x": 0.1,
        "y": 0.1
       },
       "content": {
        "cell": "b1daa992-4a28-496f-b325-6e8be1a7844c",
        "part": "whole"
       },
       "id": "b30819be-7928-4220-b15f-b3ca846f4850"
      }
     }
    }
   },
   "themes": {}
  },
  "vscode": {
   "interpreter": {
    "hash": "c261aea317cc0286b3b3261fbba9abdec21eaa57589985bb7a274bf54d6cc0a7"
   }
  }
 },
 "nbformat": 4,
 "nbformat_minor": 2
}
